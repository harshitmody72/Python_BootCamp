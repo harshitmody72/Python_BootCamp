{
 "cells": [
  {
   "cell_type": "markdown",
   "metadata": {},
   "source": [
    "## Bootcamp Assignment 2\n",
    "By Subrat Kumar Swain"
   ]
  },
  {
   "cell_type": "code",
   "execution_count": null,
   "metadata": {},
   "outputs": [],
   "source": []
  },
  {
   "cell_type": "markdown",
   "metadata": {},
   "source": [
    "There are two types of samosa, X and Y. Price of samosa X and samosa Y is A and B respectively. Given an amount of rupees N that Harsh has, find out the maximum number of samosa bought by him. Also print the type of samosa bought.<br>\n",
    "\n",
    "Input: A, B, N<br>\n",
    "Output: X or Y"
   ]
  },
  {
   "cell_type": "code",
   "execution_count": null,
   "metadata": {},
   "outputs": [],
   "source": []
  },
  {
   "cell_type": "raw",
   "metadata": {},
   "source": [
    "Print the pattern:\n",
    "    \n",
    "1\n",
    "01\n",
    "101\n",
    "0101\n",
    "10101"
   ]
  },
  {
   "cell_type": "code",
   "execution_count": null,
   "metadata": {},
   "outputs": [],
   "source": []
  },
  {
   "cell_type": "markdown",
   "metadata": {},
   "source": [
    "Barua is standing at x = 0 facing the positive x-axis. He loves watching stars but is too lazy to move or even turn around at that matter. For the same reason he can see the stars located in the first quadrant but cannot see the ones located in the second quadrant (because he doesn't have eyes on his back). You are given the co-ordinates of N stars and you need to tell him the fraction of the total stars that he will be able to observe.<br>\n",
    "\n",
    "Input Format:<br> \n",
    "First line contains the integer N.\n",
    "Next N lines contain two integers each, the x and the y co-ordinate of the ith star.<br>\n",
    "\n",
    "NOTE : Barua can observe every star that is in front of him i.e in the first quadrant, the only ones he cannot observe are the ones behind him i.e. lying in the second quadrant. He cannot observe the stars that are vertically above him. The third and the fourth quadrants are obviously the ground that Barua stands on.<br>\n",
    "\n",
    "Output Format:<br>\n",
    "Output one decimal number upto six decimal places denoting the percentage of the total stars that Barua can observe.<br>\n",
    "\n",
    "Input1:<br> \n",
    "6<br>\n",
    "2 2<br>\n",
    "5 6<br>\n",
    "-4 5<br>\n",
    "-1 1<br>\n",
    "7 3<br>\n",
    "-4 2<br>\n",
    "\n",
    "Output1:<br>\n",
    "0.500000"
   ]
  },
  {
   "cell_type": "code",
   "execution_count": null,
   "metadata": {},
   "outputs": [],
   "source": []
  }
 ],
 "metadata": {
  "kernelspec": {
   "display_name": "Python 3",
   "language": "python",
   "name": "python3"
  },
  "language_info": {
   "codemirror_mode": {
    "name": "ipython",
    "version": 3
   },
   "file_extension": ".py",
   "mimetype": "text/x-python",
   "name": "python",
   "nbconvert_exporter": "python",
   "pygments_lexer": "ipython3",
   "version": "3.7.4"
  }
 },
 "nbformat": 4,
 "nbformat_minor": 4
}
