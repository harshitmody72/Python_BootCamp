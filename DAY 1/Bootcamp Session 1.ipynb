{
 "cells": [
  {
   "cell_type": "code",
   "execution_count": 1,
   "metadata": {},
   "outputs": [
    {
     "name": "stdout",
     "output_type": "stream",
     "text": [
      "hello\n"
     ]
    }
   ],
   "source": [
    "print('hello')"
   ]
  },
  {
   "cell_type": "code",
   "execution_count": 2,
   "metadata": {},
   "outputs": [
    {
     "name": "stdout",
     "output_type": "stream",
     "text": [
      "hello\n"
     ]
    }
   ],
   "source": [
    "exec(\"print('hello')\")"
   ]
  },
  {
   "cell_type": "code",
   "execution_count": 7,
   "metadata": {},
   "outputs": [
    {
     "name": "stdout",
     "output_type": "stream",
     "text": [
      "Enter a variable name:var\n",
      "Enter a value: 50\n",
      "var : 50\n"
     ]
    }
   ],
   "source": [
    "varname = input('Enter a variable name:')\n",
    "exec(\"{} = int(input('Enter a value: '))\".format(varname))\n",
    "print(f\"{varname}\", ':', locals()[varname])"
   ]
  },
  {
   "cell_type": "code",
   "execution_count": 11,
   "metadata": {},
   "outputs": [
    {
     "name": "stdout",
     "output_type": "stream",
     "text": [
      "Enter the num: 23\n",
      "Odd\n"
     ]
    }
   ],
   "source": [
    "n = int(input('Enter the num: '))\n",
    "if n & 1 == 0:\n",
    "    print('Even')\n",
    "else:\n",
    "    print('Odd')"
   ]
  },
  {
   "cell_type": "code",
   "execution_count": 14,
   "metadata": {},
   "outputs": [
    {
     "name": "stdout",
     "output_type": "stream",
     "text": [
      "10 20\n",
      "20 10\n"
     ]
    }
   ],
   "source": [
    "a, b =10, 20\n",
    "print(a, b)\n",
    "a = a ^ b\n",
    "b = a ^ b\n",
    "a = a ^ b\n",
    "print(a, b)"
   ]
  },
  {
   "cell_type": "code",
   "execution_count": 16,
   "metadata": {},
   "outputs": [
    {
     "name": "stdout",
     "output_type": "stream",
     "text": [
      "2\n"
     ]
    }
   ],
   "source": [
    "x = 16\n",
    "print(x >> 3)"
   ]
  },
  {
   "cell_type": "code",
   "execution_count": 24,
   "metadata": {},
   "outputs": [
    {
     "name": "stdout",
     "output_type": "stream",
     "text": [
      "Enter a string: welcome\n",
      "[0, 0, 1, 0, 2, 0, 0, 0, 0, 0, 0, 1, 1, 0, 1, 0, 0, 0, 0, 0, 0, 0, 1, 0, 0, 0]\n",
      "w 1\n",
      "e 2\n",
      "l 1\n",
      "c 1\n",
      "o 1\n",
      "m 1\n"
     ]
    }
   ],
   "source": [
    "import string\n",
    "s = input('Enter a string: ').lower()\n",
    "li = [0] * 26\n",
    "for i in s:\n",
    "    if i in string.ascii_letters:\n",
    "        li[ord(i) - 97] += 1\n",
    "        \n",
    "print(li)\n",
    "for i in s:\n",
    "    if li[ord(i) - 97] != 0:\n",
    "        print(i, li[ord(i) - 97])\n",
    "        li[ord(i) - 97] = 0"
   ]
  },
  {
   "cell_type": "code",
   "execution_count": 25,
   "metadata": {},
   "outputs": [
    {
     "name": "stdout",
     "output_type": "stream",
     "text": [
      "Enter a string: welcome\n",
      "[0, 0, 1, 0, 2, 0, 0, 0, 0, 0, 0, 1, 1, 0, 1, 0, 0, 0, 0, 0, 0, 0, 1, 0, 0, 0]\n",
      "5\n"
     ]
    }
   ],
   "source": [
    "import string\n",
    "count = 0\n",
    "s = input('Enter a string: ').lower()\n",
    "li = [0] * 26\n",
    "for i in s:\n",
    "    if i in string.ascii_letters:\n",
    "        li[ord(i) - 97] += 1\n",
    "        \n",
    "print(li)\n",
    "\n",
    "for i in li:\n",
    "    if i == 1:\n",
    "        count += 1\n",
    "        \n",
    "print(count)"
   ]
  },
  {
   "cell_type": "code",
   "execution_count": 28,
   "metadata": {},
   "outputs": [
    {
     "name": "stdout",
     "output_type": "stream",
     "text": [
      "Enter a string: A quick brown fox jumps over the lazy dog\n",
      "[2, 1, 1, 1, 2, 1, 1, 1, 1, 1, 1, 1, 1, 1, 4, 1, 1, 2, 1, 1, 2, 1, 1, 1, 1, 1]\n",
      "Pangram\n"
     ]
    }
   ],
   "source": [
    "import string\n",
    "count = 0\n",
    "s = input('Enter a string: ').lower()\n",
    "li = [0] * 26\n",
    "for i in s:\n",
    "    if i in string.ascii_letters:\n",
    "        li[ord(i) - 97] += 1\n",
    "        \n",
    "print(li)\n",
    "\n",
    "for i in li:\n",
    "    if i == 0:\n",
    "        print('Not Pangram')\n",
    "        break\n",
    "else:\n",
    "   print('Pangram') \n"
   ]
  },
  {
   "cell_type": "code",
   "execution_count": 29,
   "metadata": {},
   "outputs": [
    {
     "name": "stdout",
     "output_type": "stream",
     "text": [
      "welcome\n",
      "{'w': 1, 'e': 2, 'l': 1, 'c': 1, 'o': 1, 'm': 1}\n"
     ]
    }
   ],
   "source": [
    "s = input()\n",
    "d = {}\n",
    "for i in s:\n",
    "    d[i] = d.get(i, 0) + 1\n",
    "print(d)"
   ]
  },
  {
   "cell_type": "code",
   "execution_count": 35,
   "metadata": {},
   "outputs": [
    {
     "name": "stdout",
     "output_type": "stream",
     "text": [
      "welcome\n",
      "{'w': 1, 'e': 2, 'l': 1, 'c': 1, 'o': 1, 'm': 1}\n"
     ]
    }
   ],
   "source": [
    "import collections\n",
    "s = input()\n",
    "print(dict(collections.Counter(s)))"
   ]
  },
  {
   "cell_type": "code",
   "execution_count": 39,
   "metadata": {},
   "outputs": [
    {
     "name": "stdout",
     "output_type": "stream",
     "text": [
      "A quick brown     fox jumps over    the lazy dog\n",
      "Pangram\n"
     ]
    }
   ],
   "source": [
    "import string\n",
    "s = set(input().lower())\n",
    "alpha = set(string.ascii_lowercase)\n",
    "if alpha <= s:\n",
    "    print('Pangram')\n",
    "else:\n",
    "    print('Not Pangram')"
   ]
  },
  {
   "cell_type": "code",
   "execution_count": 41,
   "metadata": {},
   "outputs": [
    {
     "name": "stdout",
     "output_type": "stream",
     "text": [
      "<class 'tuple'>\n"
     ]
    }
   ],
   "source": [
    "t = (7,)\n",
    "print(type(t))"
   ]
  },
  {
   "cell_type": "code",
   "execution_count": 49,
   "metadata": {},
   "outputs": [
    {
     "name": "stdout",
     "output_type": "stream",
     "text": [
      "Enter a string: bbbbbbaaaannnnnaaaaaannnnnaaaaannnnnaaaaa\n",
      "b*a*n*a*n*a*n*a\n"
     ]
    }
   ],
   "source": [
    "s = input('Enter a string: ')\n",
    "for i in range(len(s) - 1):\n",
    "    if s[i] == s[i + 1]:\n",
    "        print(end = \"\")\n",
    "    else:\n",
    "        print(s[i], end = \"*\")\n",
    "        \n",
    "print(s[-1])"
   ]
  },
  {
   "cell_type": "code",
   "execution_count": 55,
   "metadata": {},
   "outputs": [
    {
     "name": "stdout",
     "output_type": "stream",
     "text": [
      "{1: 13, 2: 12, 4: 11, 3: 10}\n"
     ]
    }
   ],
   "source": [
    "import operator\n",
    "d = {2 : 12, 1 : 13, 4 : 11, 3 : 10}\n",
    "print(dict(sorted(d.items(), key = operator.itemgetter(1), reverse = True)))"
   ]
  },
  {
   "cell_type": "code",
   "execution_count": 57,
   "metadata": {},
   "outputs": [
    {
     "name": "stdout",
     "output_type": "stream",
     "text": [
      "[1, 2, 3, 4, 5, 6]\n"
     ]
    }
   ],
   "source": [
    "l = [1, 2, 3]\n",
    "l.extend([4, 5, 6])\n",
    "print(l)"
   ]
  },
  {
   "cell_type": "code",
   "execution_count": 61,
   "metadata": {},
   "outputs": [
    {
     "name": "stdout",
     "output_type": "stream",
     "text": [
      "[1, 2, 3, 4]\n"
     ]
    }
   ],
   "source": [
    "l = [1, 2, 3]\n",
    "l[len(l):] = [4]\n",
    "print(l)"
   ]
  },
  {
   "cell_type": "code",
   "execution_count": 64,
   "metadata": {},
   "outputs": [
    {
     "name": "stdout",
     "output_type": "stream",
     "text": [
      "[4, 5, 6, 2, 3]\n"
     ]
    }
   ],
   "source": [
    "l = [1, 2, 3]\n",
    "l[:1] = [4, 5, 6]\n",
    "print(l)"
   ]
  },
  {
   "cell_type": "code",
   "execution_count": null,
   "metadata": {},
   "outputs": [],
   "source": []
  }
 ],
 "metadata": {
  "kernelspec": {
   "display_name": "Python 3",
   "language": "python",
   "name": "python3"
  },
  "language_info": {
   "codemirror_mode": {
    "name": "ipython",
    "version": 3
   },
   "file_extension": ".py",
   "mimetype": "text/x-python",
   "name": "python",
   "nbconvert_exporter": "python",
   "pygments_lexer": "ipython3",
   "version": "3.7.4"
  }
 },
 "nbformat": 4,
 "nbformat_minor": 4
}
