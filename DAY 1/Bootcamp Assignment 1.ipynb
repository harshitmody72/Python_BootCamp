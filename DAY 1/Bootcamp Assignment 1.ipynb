{
 "cells": [
  {
   "cell_type": "markdown",
   "metadata": {},
   "source": [
    "### Assignment1"
   ]
  },
  {
   "cell_type": "raw",
   "metadata": {},
   "source": [
    "1. Find the no of digits of N!"
   ]
  },
  {
   "cell_type": "code",
   "execution_count": null,
   "metadata": {},
   "outputs": [],
   "source": []
  },
  {
   "cell_type": "raw",
   "metadata": {},
   "source": [
    "2. Given two values, they can be integer or floating point numbers, add them.\n",
    "\n",
    "Input1: 12 3\n",
    "Output1: 15\n",
    "\n",
    "Input2: 12.5 3\n",
    "output2: 15.5\n",
    "\n",
    "Input3: 12.5 3.5\n",
    "output3: 16"
   ]
  },
  {
   "cell_type": "code",
   "execution_count": null,
   "metadata": {},
   "outputs": [],
   "source": []
  },
  {
   "cell_type": "markdown",
   "metadata": {},
   "source": [
    "#### 3. Character Compression\n",
    "Input1: bbaannaannaa<br>\n",
    "Output1: banana"
   ]
  },
  {
   "cell_type": "code",
   "execution_count": null,
   "metadata": {},
   "outputs": [],
   "source": []
  },
  {
   "cell_type": "raw",
   "metadata": {},
   "source": [
    "4. Count the frequency of the charcters of a string"
   ]
  },
  {
   "cell_type": "code",
   "execution_count": null,
   "metadata": {},
   "outputs": [],
   "source": []
  },
  {
   "cell_type": "markdown",
   "metadata": {},
   "source": [
    "#### 5. Alice and the boat trip\n",
    "\n",
    "Input1:<br>\n",
    "    n = 5<br>\n",
    "    m = 2<br>\n",
    "    c = 2<br>\n",
    "    1 2 4 3 2<br>\n",
    "Output1: yes<br><br>\n",
    "Input2:<br>\n",
    "    n = 5<br>\n",
    "    m = 2<br>\n",
    "    c = 2<br>\n",
    "    1 2 5 3 2<br>\n",
    "Output2: no"
   ]
  },
  {
   "cell_type": "code",
   "execution_count": null,
   "metadata": {},
   "outputs": [],
   "source": []
  }
 ],
 "metadata": {
  "kernelspec": {
   "display_name": "Python 3",
   "language": "python",
   "name": "python3"
  },
  "language_info": {
   "codemirror_mode": {
    "name": "ipython",
    "version": 3
   },
   "file_extension": ".py",
   "mimetype": "text/x-python",
   "name": "python",
   "nbconvert_exporter": "python",
   "pygments_lexer": "ipython3",
   "version": "3.7.4"
  }
 },
 "nbformat": 4,
 "nbformat_minor": 4
}
