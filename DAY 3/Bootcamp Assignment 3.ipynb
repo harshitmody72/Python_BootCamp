{
 "cells": [
  {
   "cell_type": "raw",
   "metadata": {},
   "source": [
    "\n",
    "Given a sorted list with an unsorted number  in the rightmost cell, can you write some simple code to insert  into the array so that it remains sorted?\n",
    "\n",
    "Assume you are given the array arr = [1, 2, 4, 5, 3] indexed 0 ... 4. Store the value of arr[4]. Now test lower index values successively from 3 to 0 until you reach a value that is lower than arr[4],  arr[1] in this case. Each time your test fails, copy the value at the lower index to the current index and print your array. When the next lower indexed value is smaller than arr[4], insert the stored value at the current index and print the entire array.\n",
    "\n",
    "The results of operations on the example array is:\n",
    "\n",
    "Starting array: [1, 2, 4, 5, 3]\n",
    "Store the value of  arr[4] = 3 \n",
    "\n",
    "Do the tests and print interim results:\n",
    "\n",
    "1 2 4 5 5\n",
    "1 2 4 4 5\n",
    "1 2 3 4 5\n",
    "\n",
    "Input:\n",
    "5\n",
    "2 4 6 8 3\n",
    "\n",
    "Output:\n",
    "2 4 6 8 8 \n",
    "2 4 6 6 8 \n",
    "2 4 4 6 8 \n",
    "2 3 4 6 8 "
   ]
  },
  {
   "cell_type": "code",
   "execution_count": null,
   "metadata": {},
   "outputs": [],
   "source": []
  },
  {
   "cell_type": "raw",
   "metadata": {},
   "source": [
    "Choose some element p, and partition your unsorted array, arr, into three smaller arrays: left, right, and equal, where each element in left < p, each element in right > p, and each element in equal = p .\n",
    "\n",
    "For example: Assume arr = [5, 7, 4, 3, 8]\n",
    "The element arr[0] is selected as p. \n",
    "arr is divided into left = {4, 3}, equal = {5}, and right = {7, 8}.\n",
    "Putting them all together, you get {4, 3, 5, 7, 8}. Another valid solution is {3, 4, 5, 8, 7}.\n",
    "\n",
    "Given arr and p = arr[0], partition arr into left, right, and equal using the Divide instructions above. Then print each element in left followed by each element in equal, followed by each element in  right on a single line. Your output should be space-separated and does not have to maintain ordering of the elements within the three categories.\n",
    "\n",
    "Input Format:\n",
    "The first line contains n, the size of the array .\n",
    "The second line contains n space-separated integers describing  arr(the unsorted array). The first integer (corresponding to arr[0]) is p.\n",
    "\n",
    "Note: All elements will be unique.\n",
    "\n",
    "Output Format:\n",
    "On a single line, print the partitioned numbers (i.e.: the elements in left, then the elements in equal, and then the elements in right). Each integer should be separated by a single space.\n",
    "\n",
    "Input:\n",
    "5\n",
    "4 5 3 7 2\n",
    "\n",
    "Output:\n",
    "3 2 4 5 7"
   ]
  },
  {
   "cell_type": "code",
   "execution_count": null,
   "metadata": {},
   "outputs": [],
   "source": []
  }
 ],
 "metadata": {
  "kernelspec": {
   "display_name": "Python 3",
   "language": "python",
   "name": "python3"
  },
  "language_info": {
   "codemirror_mode": {
    "name": "ipython",
    "version": 3
   },
   "file_extension": ".py",
   "mimetype": "text/x-python",
   "name": "python",
   "nbconvert_exporter": "python",
   "pygments_lexer": "ipython3",
   "version": "3.7.4"
  }
 },
 "nbformat": 4,
 "nbformat_minor": 4
}
