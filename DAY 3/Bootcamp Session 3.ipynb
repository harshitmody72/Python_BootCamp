{
 "cells": [
  {
   "cell_type": "code",
   "execution_count": 6,
   "metadata": {},
   "outputs": [
    {
     "name": "stdout",
     "output_type": "stream",
     "text": [
      "in init\n",
      "Animal\n",
      "10 20\n"
     ]
    }
   ],
   "source": [
    "class Animal:\n",
    "    def __init__(self, x, y):\n",
    "        print('in init')\n",
    "        self.a = x\n",
    "        self.b = y\n",
    "    def show(self):\n",
    "        print('Animal')\n",
    "        print(self.a, self.b)\n",
    "\n",
    "ob = Animal(10, 20)\n",
    "ob.show()"
   ]
  },
  {
   "cell_type": "code",
   "execution_count": 8,
   "metadata": {},
   "outputs": [
    {
     "name": "stdout",
     "output_type": "stream",
     "text": [
      "OTP approved\n",
      "Ride started\n",
      "AC on\n",
      "Playing music\n"
     ]
    }
   ],
   "source": [
    "class Uber:\n",
    "    def startride(self):\n",
    "        print('Ride started')\n",
    "        print('AC on')\n",
    "\n",
    "class Ola:\n",
    "    def startride(self):\n",
    "        print('Ride started')\n",
    "        print('AC on')\n",
    "        print('Playing music')\n",
    "class Driver:\n",
    "    def putotp(self, cab):\n",
    "        print('OTP approved')\n",
    "        cab.startride()\n",
    "               \n",
    "cab = Ola()\n",
    "d = Driver()\n",
    "d.putotp(cab)"
   ]
  },
  {
   "cell_type": "code",
   "execution_count": 14,
   "metadata": {},
   "outputs": [
    {
     "name": "stdout",
     "output_type": "stream",
     "text": [
      "12\n",
      "Not eligible to vote\n"
     ]
    }
   ],
   "source": [
    "class MyException(Exception):\n",
    "    def __init__(self, error):\n",
    "        super().__init__(error)\n",
    "    \n",
    "age = int(input())\n",
    "try:\n",
    "    if age < 18:\n",
    "        raise MyException('Not eligible to vote')\n",
    "except MyException as e:\n",
    "    print(e)\n",
    "else:\n",
    "    print('Valid age')\n",
    "    "
   ]
  },
  {
   "cell_type": "code",
   "execution_count": 15,
   "metadata": {},
   "outputs": [
    {
     "name": "stdout",
     "output_type": "stream",
     "text": [
      "[0, 2, 5, 6, 8, 9]\n"
     ]
    }
   ],
   "source": [
    "def insertionsort(a):\n",
    "    for j in range(1, len(a)):\n",
    "        key = a[j]\n",
    "        i = j - 1\n",
    "        while i >= 0 and a[i] > key:\n",
    "            a[i + 1] = a[i]\n",
    "            i -= 1\n",
    "        a[i + 1] = key\n",
    "\n",
    "l = [9, 6, 5, 8, 0, 2]\n",
    "insertionsort(l)\n",
    "print(l)"
   ]
  },
  {
   "cell_type": "code",
   "execution_count": 17,
   "metadata": {},
   "outputs": [
    {
     "name": "stdout",
     "output_type": "stream",
     "text": [
      "[0, 2, 5, 6, 8, 9]\n"
     ]
    }
   ],
   "source": [
    "def bubblesort(a):\n",
    "    for i in range(len(a)):\n",
    "        swap = 0\n",
    "        for j in range(len(a) - 1 - i):\n",
    "            if a[j] > a[j + 1]:\n",
    "                a[j], a[j + 1] = a[j + 1], a[j]\n",
    "                swap = 1\n",
    "                \n",
    "        if swap == 0:\n",
    "            break\n",
    "\n",
    "l = [9, 6, 5, 8, 0, 2]\n",
    "bubblesort(l)\n",
    "print(l)"
   ]
  },
  {
   "cell_type": "code",
   "execution_count": 26,
   "metadata": {},
   "outputs": [
    {
     "name": "stdout",
     "output_type": "stream",
     "text": [
      "abcdefghijklmnopqrstuvwxyzABCDEFGHIJKLMNOPQRSTUVWXYZ\n",
      "abcdefghijklmnopqrstuvwxyzABCDEFGHIJKLMNOPQRSTUVWXYZ\n"
     ]
    }
   ],
   "source": [
    "import string\n",
    "print(string.ascii_letters)\n",
    "print(string.ascii_lowercase + string.ascii_uppercase)"
   ]
  },
  {
   "cell_type": "code",
   "execution_count": 28,
   "metadata": {},
   "outputs": [
    {
     "name": "stdout",
     "output_type": "stream",
     "text": [
      "[0, 2, 5, 6, 8, 9]\n"
     ]
    }
   ],
   "source": [
    "def partition(a, p, r):\n",
    "    x = a[r]\n",
    "    i = p - 1\n",
    "    for j in range(p, r):\n",
    "        if a[j] <= x:\n",
    "            i += 1\n",
    "            a[i], a[j] = a[j], a[i]\n",
    "    a[r], a[i + 1] = a[i + 1], a[r]\n",
    "    return i + 1\n",
    "\n",
    "def quicksort(a, p, r):\n",
    "    if p < r:\n",
    "        q = partition(a, p, r)\n",
    "        quicksort(a, p, q - 1)\n",
    "        quicksort(a, q + 1, r)\n",
    "\n",
    "l = [9, 6, 5, 8, 0, 2]\n",
    "quicksort(l, 0, 5)\n",
    "print(l)"
   ]
  },
  {
   "cell_type": "code",
   "execution_count": null,
   "metadata": {},
   "outputs": [],
   "source": []
  },
  {
   "cell_type": "markdown",
   "metadata": {},
   "source": [
    "A Barua number is a number which consists of only zeroes and ones and has only one 1.Barua number will start with 1. Given numbers, find out the multiplication of the numbers. Note: The input may contain one decimal number and all other Barua numbers.<br>\n",
    "\n",
    "Input1: 100 10 12 1000<br>\n",
    "Output: 12000000<br>\n",
    "\n",
    "Input2: 100 121 1000000000000000<br>\n",
    "Output2: 12100000000000000000<br>\n",
    "\n",
    "Input3: 10 100 1000<br>\n",
    "Output3: 1000000"
   ]
  },
  {
   "cell_type": "code",
   "execution_count": 21,
   "metadata": {},
   "outputs": [
    {
     "name": "stdout",
     "output_type": "stream",
     "text": [
      "100 121 1000000000000000\n",
      "12100000000000000000"
     ]
    }
   ],
   "source": [
    "l = [int(i)for i in input().split()]\n",
    "p = 1\n",
    "count = 0\n",
    "for i in l:\n",
    "    j = i\n",
    "    while j % 10 == 0:\n",
    "        j //= 10\n",
    "        count += 1\n",
    "    p *= j\n",
    "    \n",
    "print(p, end = \"\")\n",
    "for i in range(count):\n",
    "    print('0', end = \"\")"
   ]
  },
  {
   "cell_type": "raw",
   "metadata": {},
   "source": []
  },
  {
   "cell_type": "code",
   "execution_count": null,
   "metadata": {},
   "outputs": [],
   "source": []
  },
  {
   "cell_type": "raw",
   "metadata": {},
   "source": []
  },
  {
   "cell_type": "code",
   "execution_count": null,
   "metadata": {},
   "outputs": [],
   "source": []
  }
 ],
 "metadata": {
  "kernelspec": {
   "display_name": "Python 3",
   "language": "python",
   "name": "python3"
  },
  "language_info": {
   "codemirror_mode": {
    "name": "ipython",
    "version": 3
   },
   "file_extension": ".py",
   "mimetype": "text/x-python",
   "name": "python",
   "nbconvert_exporter": "python",
   "pygments_lexer": "ipython3",
   "version": "3.7.4"
  }
 },
 "nbformat": 4,
 "nbformat_minor": 4
}
